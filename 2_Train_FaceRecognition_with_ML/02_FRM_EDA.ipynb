{
 "cells": [
  {
   "cell_type": "code",
   "execution_count": 1,
   "id": "f3a8b20d-fc4d-42ac-bb89-3a99de037235",
   "metadata": {},
   "outputs": [],
   "source": [
    "%config completer.use_jedi = True"
   ]
  },
  {
   "cell_type": "code",
   "execution_count": 1,
   "id": "e8128b7b-5e83-45f6-8f49-dba6fff387e3",
   "metadata": {},
   "outputs": [
    {
     "name": "stdout",
     "output_type": "stream",
     "text": [
      "Defaulting to user installation because normal site-packages is not writeable\n",
      "Collecting seaborn\n",
      "  Downloading seaborn-0.13.2-py3-none-any.whl.metadata (5.4 kB)\n",
      "Requirement already satisfied: numpy!=1.24.0,>=1.20 in c:\\users\\hp\\appdata\\roaming\\python\\python312\\site-packages (from seaborn) (2.2.2)\n",
      "Collecting pandas>=1.2 (from seaborn)\n",
      "  Downloading pandas-2.2.3-cp312-cp312-win_amd64.whl.metadata (19 kB)\n",
      "Requirement already satisfied: matplotlib!=3.6.1,>=3.4 in c:\\users\\hp\\appdata\\roaming\\python\\python312\\site-packages (from seaborn) (3.10.0)\n",
      "Requirement already satisfied: contourpy>=1.0.1 in c:\\users\\hp\\appdata\\roaming\\python\\python312\\site-packages (from matplotlib!=3.6.1,>=3.4->seaborn) (1.3.1)\n",
      "Requirement already satisfied: cycler>=0.10 in c:\\users\\hp\\appdata\\roaming\\python\\python312\\site-packages (from matplotlib!=3.6.1,>=3.4->seaborn) (0.12.1)\n",
      "Requirement already satisfied: fonttools>=4.22.0 in c:\\users\\hp\\appdata\\roaming\\python\\python312\\site-packages (from matplotlib!=3.6.1,>=3.4->seaborn) (4.55.8)\n",
      "Requirement already satisfied: kiwisolver>=1.3.1 in c:\\users\\hp\\appdata\\roaming\\python\\python312\\site-packages (from matplotlib!=3.6.1,>=3.4->seaborn) (1.4.8)\n",
      "Requirement already satisfied: packaging>=20.0 in c:\\users\\hp\\appdata\\roaming\\python\\python312\\site-packages (from matplotlib!=3.6.1,>=3.4->seaborn) (24.2)\n",
      "Requirement already satisfied: pillow>=8 in c:\\users\\hp\\appdata\\roaming\\python\\python312\\site-packages (from matplotlib!=3.6.1,>=3.4->seaborn) (10.3.0)\n",
      "Requirement already satisfied: pyparsing>=2.3.1 in c:\\users\\hp\\appdata\\roaming\\python\\python312\\site-packages (from matplotlib!=3.6.1,>=3.4->seaborn) (3.2.1)\n",
      "Requirement already satisfied: python-dateutil>=2.7 in c:\\users\\hp\\appdata\\roaming\\python\\python312\\site-packages (from matplotlib!=3.6.1,>=3.4->seaborn) (2.9.0.post0)\n",
      "Collecting pytz>=2020.1 (from pandas>=1.2->seaborn)\n",
      "  Downloading pytz-2025.1-py2.py3-none-any.whl.metadata (22 kB)\n",
      "Requirement already satisfied: tzdata>=2022.7 in c:\\users\\hp\\appdata\\roaming\\python\\python312\\site-packages (from pandas>=1.2->seaborn) (2023.4)\n",
      "Requirement already satisfied: six>=1.5 in c:\\users\\hp\\appdata\\roaming\\python\\python312\\site-packages (from python-dateutil>=2.7->matplotlib!=3.6.1,>=3.4->seaborn) (1.17.0)\n",
      "Downloading seaborn-0.13.2-py3-none-any.whl (294 kB)\n",
      "Downloading pandas-2.2.3-cp312-cp312-win_amd64.whl (11.5 MB)\n",
      "   ---------------------------------------- 0.0/11.5 MB ? eta -:--:--\n",
      "    --------------------------------------- 0.3/11.5 MB ? eta -:--:--\n",
      "   - -------------------------------------- 0.5/11.5 MB 1.1 MB/s eta 0:00:10\n",
      "   - -------------------------------------- 0.5/11.5 MB 1.1 MB/s eta 0:00:10\n",
      "   -- ------------------------------------- 0.8/11.5 MB 745.8 kB/s eta 0:00:15\n",
      "   --- ------------------------------------ 1.0/11.5 MB 883.6 kB/s eta 0:00:12\n",
      "   ---- ----------------------------------- 1.3/11.5 MB 959.4 kB/s eta 0:00:11\n",
      "   ----- ---------------------------------- 1.6/11.5 MB 1.1 MB/s eta 0:00:10\n",
      "   ------- -------------------------------- 2.1/11.5 MB 1.1 MB/s eta 0:00:09\n",
      "   -------- ------------------------------- 2.4/11.5 MB 1.2 MB/s eta 0:00:08\n",
      "   --------- ------------------------------ 2.6/11.5 MB 1.2 MB/s eta 0:00:08\n",
      "   ---------- ----------------------------- 2.9/11.5 MB 1.2 MB/s eta 0:00:08\n",
      "   ---------- ----------------------------- 3.1/11.5 MB 1.2 MB/s eta 0:00:08\n",
      "   ---------- ----------------------------- 3.1/11.5 MB 1.2 MB/s eta 0:00:08\n",
      "   ---------- ----------------------------- 3.1/11.5 MB 1.2 MB/s eta 0:00:08\n",
      "   ----------- ---------------------------- 3.4/11.5 MB 991.7 kB/s eta 0:00:09\n",
      "   ----------- ---------------------------- 3.4/11.5 MB 991.7 kB/s eta 0:00:09\n",
      "   ------------- -------------------------- 3.9/11.5 MB 1.0 MB/s eta 0:00:08\n",
      "   ------------- -------------------------- 3.9/11.5 MB 1.0 MB/s eta 0:00:08\n",
      "   ------------- -------------------------- 3.9/11.5 MB 1.0 MB/s eta 0:00:08\n",
      "   ------------- -------------------------- 3.9/11.5 MB 1.0 MB/s eta 0:00:08\n",
      "   ------------- -------------------------- 3.9/11.5 MB 1.0 MB/s eta 0:00:08\n",
      "   ------------- -------------------------- 3.9/11.5 MB 1.0 MB/s eta 0:00:08\n",
      "   ------------- -------------------------- 3.9/11.5 MB 1.0 MB/s eta 0:00:08\n",
      "   ------------- -------------------------- 3.9/11.5 MB 1.0 MB/s eta 0:00:08\n",
      "   ------------- -------------------------- 3.9/11.5 MB 1.0 MB/s eta 0:00:08\n",
      "   ------------- -------------------------- 3.9/11.5 MB 1.0 MB/s eta 0:00:08\n",
      "   ------------- -------------------------- 3.9/11.5 MB 1.0 MB/s eta 0:00:08\n",
      "   ------------- -------------------------- 3.9/11.5 MB 1.0 MB/s eta 0:00:08\n",
      "   -------------- ------------------------- 4.2/11.5 MB 638.8 kB/s eta 0:00:12\n",
      "   --------------- ------------------------ 4.5/11.5 MB 656.4 kB/s eta 0:00:11\n",
      "   --------------- ------------------------ 4.5/11.5 MB 656.4 kB/s eta 0:00:11\n",
      "   ---------------- ----------------------- 4.7/11.5 MB 636.6 kB/s eta 0:00:11\n",
      "   ----------------- ---------------------- 5.0/11.5 MB 652.3 kB/s eta 0:00:11\n",
      "   ------------------ --------------------- 5.2/11.5 MB 669.7 kB/s eta 0:00:10\n",
      "   ------------------- -------------------- 5.5/11.5 MB 686.2 kB/s eta 0:00:09\n",
      "   ------------------- -------------------- 5.5/11.5 MB 686.2 kB/s eta 0:00:09\n",
      "   -------------------- ------------------- 6.0/11.5 MB 704.4 kB/s eta 0:00:08\n",
      "   --------------------- ------------------ 6.3/11.5 MB 719.9 kB/s eta 0:00:08\n",
      "   ---------------------- ----------------- 6.6/11.5 MB 732.2 kB/s eta 0:00:07\n",
      "   ----------------------- ---------------- 6.8/11.5 MB 746.3 kB/s eta 0:00:07\n",
      "   ------------------------- -------------- 7.3/11.5 MB 777.0 kB/s eta 0:00:06\n",
      "   ------------------------- -------------- 7.3/11.5 MB 777.0 kB/s eta 0:00:06\n",
      "   -------------------------- ------------- 7.6/11.5 MB 767.6 kB/s eta 0:00:06\n",
      "   -------------------------- ------------- 7.6/11.5 MB 767.6 kB/s eta 0:00:06\n",
      "   --------------------------- ------------ 7.9/11.5 MB 756.7 kB/s eta 0:00:05\n",
      "   --------------------------- ------------ 7.9/11.5 MB 756.7 kB/s eta 0:00:05\n",
      "   ----------------------------- ---------- 8.4/11.5 MB 775.1 kB/s eta 0:00:05\n",
      "   ------------------------------ --------- 8.9/11.5 MB 808.3 kB/s eta 0:00:04\n",
      "   -------------------------------- ------- 9.4/11.5 MB 840.1 kB/s eta 0:00:03\n",
      "   ---------------------------------- ----- 10.0/11.5 MB 871.8 kB/s eta 0:00:02\n",
      "   ------------------------------------ --- 10.5/11.5 MB 900.0 kB/s eta 0:00:02\n",
      "   -------------------------------------- - 11.0/11.5 MB 919.6 kB/s eta 0:00:01\n",
      "   ---------------------------------------  11.3/11.5 MB 932.1 kB/s eta 0:00:01\n",
      "   ---------------------------------------- 11.5/11.5 MB 930.8 kB/s eta 0:00:00\n",
      "Downloading pytz-2025.1-py2.py3-none-any.whl (507 kB)\n",
      "Installing collected packages: pytz, pandas, seaborn\n",
      "Successfully installed pandas-2.2.3 pytz-2025.1 seaborn-0.13.2\n"
     ]
    },
    {
     "name": "stderr",
     "output_type": "stream",
     "text": [
      "\n",
      "[notice] A new release of pip is available: 25.0 -> 25.0.1\n",
      "[notice] To update, run: python.exe -m pip install --upgrade pip\n"
     ]
    }
   ],
   "source": [
    "!pip install seaborn"
   ]
  },
  {
   "cell_type": "code",
   "execution_count": 2,
   "id": "e2955c7b-04f8-458c-b46d-dedd03b4b164",
   "metadata": {},
   "outputs": [],
   "source": [
    "import numpy as np\n",
    "import pandas as pd\n",
    "import matplotlib.pyplot as plt\n",
    "import seaborn as sns\n",
    "import cv2\n",
    "from glob import glob"
   ]
  },
  {
   "cell_type": "code",
   "execution_count": 3,
   "id": "291de9a4-5be0-4ce2-8be4-1db44de66e33",
   "metadata": {},
   "outputs": [],
   "source": [
    "# extract path of male and female in crop data\n",
    "fpath = glob('./crop_data/female/*.jpg')\n",
    "mpath = glob ('./crop_data/male/*.jpg')"
   ]
  },
  {
   "cell_type": "code",
   "execution_count": 4,
   "id": "8314747c-435d-4722-81d7-a375a46a0e0f",
   "metadata": {},
   "outputs": [],
   "source": [
    " # create  dataframe for the cropped data\n",
    "df_female = pd.DataFrame(fpath, columns=['filepath'])\n",
    "df_female['gender'] = 'female'\n",
    "\n",
    "df_male = pd.DataFrame(fpath,columns=['filepath'])\n",
    "df_male['gender'] = 'male'\n",
    "df = pd.concat((df_female, df_male),axis=0)"
   ]
  },
  {
   "cell_type": "code",
   "execution_count": 5,
   "id": "48321f24-63d6-4a2f-a174-7a1b877bbcc2",
   "metadata": {},
   "outputs": [
    {
     "data": {
      "text/plain": [
       "(5408, 2)"
      ]
     },
     "execution_count": 5,
     "metadata": {},
     "output_type": "execute_result"
    }
   ],
   "source": [
    "df.shape"
   ]
  },
  {
   "cell_type": "code",
   "execution_count": 6,
   "id": "def4aa96-b23e-4d23-90e7-66a5962948fb",
   "metadata": {},
   "outputs": [],
   "source": [
    "# it will take each image path\n",
    "# then return theeir width\n",
    "def get_size(path):\n",
    "    img = cv2.imread(path)\n",
    "    return img.shape[0] "
   ]
  },
  {
   "cell_type": "code",
   "execution_count": 22,
   "id": "51c807ea-1867-4cd3-b160-e6913d9b294c",
   "metadata": {},
   "outputs": [],
   "source": [
    "df['dimension'] = df['filepath'].apply(get_size) # store dimensions of image in this column"
   ]
  },
  {
   "cell_type": "code",
   "execution_count": 8,
   "id": "9d2fb6a4-a49f-46c9-ba3d-364c8b1469d7",
   "metadata": {},
   "outputs": [
    {
     "data": {
      "text/html": [
       "<div>\n",
       "<style scoped>\n",
       "    .dataframe tbody tr th:only-of-type {\n",
       "        vertical-align: middle;\n",
       "    }\n",
       "\n",
       "    .dataframe tbody tr th {\n",
       "        vertical-align: top;\n",
       "    }\n",
       "\n",
       "    .dataframe thead th {\n",
       "        text-align: right;\n",
       "    }\n",
       "</style>\n",
       "<table border=\"1\" class=\"dataframe\">\n",
       "  <thead>\n",
       "    <tr style=\"text-align: right;\">\n",
       "      <th></th>\n",
       "      <th>filepath</th>\n",
       "      <th>gender</th>\n",
       "      <th>dimension</th>\n",
       "    </tr>\n",
       "  </thead>\n",
       "  <tbody>\n",
       "    <tr>\n",
       "      <th>0</th>\n",
       "      <td>./crop_data/female\\female_0.jpg</td>\n",
       "      <td>female</td>\n",
       "      <td>273</td>\n",
       "    </tr>\n",
       "    <tr>\n",
       "      <th>1</th>\n",
       "      <td>./crop_data/female\\female_1.jpg</td>\n",
       "      <td>female</td>\n",
       "      <td>182</td>\n",
       "    </tr>\n",
       "    <tr>\n",
       "      <th>2</th>\n",
       "      <td>./crop_data/female\\female_100.jpg</td>\n",
       "      <td>female</td>\n",
       "      <td>122</td>\n",
       "    </tr>\n",
       "    <tr>\n",
       "      <th>3</th>\n",
       "      <td>./crop_data/female\\female_1002.jpg</td>\n",
       "      <td>female</td>\n",
       "      <td>122</td>\n",
       "    </tr>\n",
       "    <tr>\n",
       "      <th>4</th>\n",
       "      <td>./crop_data/female\\female_1005.jpg</td>\n",
       "      <td>female</td>\n",
       "      <td>182</td>\n",
       "    </tr>\n",
       "  </tbody>\n",
       "</table>\n",
       "</div>"
      ],
      "text/plain": [
       "                             filepath  gender  dimension\n",
       "0     ./crop_data/female\\female_0.jpg  female        273\n",
       "1     ./crop_data/female\\female_1.jpg  female        182\n",
       "2   ./crop_data/female\\female_100.jpg  female        122\n",
       "3  ./crop_data/female\\female_1002.jpg  female        122\n",
       "4  ./crop_data/female\\female_1005.jpg  female        182"
      ]
     },
     "execution_count": 8,
     "metadata": {},
     "output_type": "execute_result"
    }
   ],
   "source": [
    "df.head()"
   ]
  },
  {
   "cell_type": "markdown",
   "id": "78b8bad3-4cd6-4544-813b-65ba8edcca2f",
   "metadata": {},
   "source": [
    " Explanatory Data analysis \n",
    " \n",
    "1.Distirbution of Male and female\n",
    "\n",
    "    pie chart\n",
    "    Bar chart\n",
    "2.what distirbution of size of all images\n",
    "\n",
    "    Histogram\n",
    "    Box plot\n",
    "    split by \"gender\"\n",
    "3.Make the decision of width & height to resize using above chart\n",
    "\n",
    "4.Remove the few images that are having very less size"
   ]
  },
  {
   "cell_type": "code",
   "execution_count": 9,
   "id": "b2a4f1db-d492-4172-8118-bc3fd521fc12",
   "metadata": {},
   "outputs": [
    {
     "data": {
      "text/plain": [
       "gender\n",
       "female    2704\n",
       "male      2704\n",
       "Name: count, dtype: int64"
      ]
     },
     "execution_count": 9,
     "metadata": {},
     "output_type": "execute_result"
    }
   ],
   "source": [
    "dist_gender = df['gender'].value_counts()\n",
    "dist_gender"
   ]
  },
  {
   "cell_type": "code",
   "execution_count": 10,
   "id": "8f4c4c2a-112c-44db-9b64-7eefc2028ad7",
   "metadata": {},
   "outputs": [
    {
     "data": {
      "text/plain": [
       "<Axes: ylabel='count'>"
      ]
     },
     "execution_count": 10,
     "metadata": {},
     "output_type": "execute_result"
    },
    {
     "data": {
      "image/png": "[encoded data removed]",
      "text/plain": [
       "<Figure size 640x480 with 2 Axes>"
      ]
     },
     "metadata": {},
     "output_type": "display_data"
    }
   ],
   "source": [
    "fig,ax = plt.subplots(nrows=1, ncols=2)\n",
    "dist_gender.plot(kind='bar', ax=ax[0])\n",
    "dist_gender.plot(kind='pie', ax=ax[1],autopct='%0.0f%%')"
   ]
  },
  {
   "cell_type": "code",
   "execution_count": 17,
   "id": "e279dcc9-45a9-4790-84da-544479116712",
   "metadata": {},
   "outputs": [
    {
     "data": {
      "image/png": "[encoded data removed]",
      "text/plain": [
       "<Figure size 1200x600 with 2 Axes>"
      ]
     },
     "metadata": {},
     "output_type": "display_data"
    }
   ],
   "source": [
    "#what distirbution of size of all images\n",
    "#Histogram\n",
    "#Box plot\n",
    "#split by \"gender\"\n",
    "plt.figure(figsize=(12, 6))  # Set figure size\n",
    "\n",
    "# Histogram\n",
    "plt.subplot(2, 1, 1)\n",
    "sns.histplot(df['dimension'], bins=30, kde=True)  # Add KDE for better visualization\n",
    "plt.title(\"Histogram of Image Sizes\")\n",
    "\n",
    "# Boxplot\n",
    "plt.subplot(2, 1, 2)\n",
    "sns.boxplot(x=df['dimension'])  # Specify y-axis explicitly\n",
    "plt.title(\"Boxplot of Image Sizes\")\n",
    "\n",
    "plt.tight_layout()  # Prevent overlapping\n",
    "plt.show()\n",
    "\n",
    " "
   ]
  },
  {
   "cell_type": "code",
   "execution_count": 19,
   "id": "b96b5171-342f-4f83-be84-6d4a47d0dfeb",
   "metadata": {},
   "outputs": [
    {
     "data": {
      "text/plain": [
       "<seaborn.axisgrid.FacetGrid at 0x230a6add430>"
      ]
     },
     "execution_count": 19,
     "metadata": {},
     "output_type": "execute_result"
    },
    {
     "data": {
      "image/png": "[encoded data removed]",
      "text/plain": [
       "<Figure size 511.111x500 with 1 Axes>"
      ]
     },
     "metadata": {},
     "output_type": "display_data"
    }
   ],
   "source": [
    " sns.catplot(data = df, x = 'gender', y= 'dimension', kind = 'box')"
   ]
  },
  {
   "cell_type": "code",
   "execution_count": 21,
   "id": "ea645d90-f406-4ca3-bdbc-5fd5bfc89af2",
   "metadata": {},
   "outputs": [
    {
     "data": {
      "text/plain": [
       "(4942, 3)"
      ]
     },
     "execution_count": 21,
     "metadata": {},
     "output_type": "execute_result"
    }
   ],
   "source": [
    "# remove too small pics\n",
    "df_filter = df.query('dimension >= 60')\n",
    "df_filter.shape"
   ]
  },
  {
   "cell_type": "markdown",
   "id": "ac4dabf0-ba45-4d6f-aad5-79f1a571cb81",
   "metadata": {},
   "source": [
    "### Structure the Image ###\n",
    "     100 x 100"
   ]
  },
  {
   "cell_type": "code",
   "execution_count": 23,
   "id": "da7630ef-d6ce-4318-b842-b483972c8608",
   "metadata": {},
   "outputs": [],
   "source": [
    "def structuring(path):\n",
    "    try:\n",
    "        #step-1 read image\n",
    "        img = cv2.imread(path)\n",
    "        # convert to greyscale\n",
    "        grey_img = cv2.cvtColor(img, cv2.COLOR_BGR2GRAY)\n",
    "        # resize the images to 100 x 100\n",
    "        #  cv2.Inter Area (shrink the image)\n",
    "        size = grey_img.shape[0]\n",
    "        if size >= 100:\n",
    "            grey_resize = cv2.resize(grey_img, (100,100),cv2.INTER_AREA)\n",
    "        else:\n",
    "            # enlargen the image\n",
    "            grey_resize = cv2.resize(grey_img, (100,100), cv2.INTER_CUBIC)\n",
    "        flatten_img = grey_resize.flatten()\n",
    "        return flatten_img\n",
    "    except:\n",
    "        return None"
   ]
  },
  {
   "cell_type": "code",
   "execution_count": 25,
   "id": "3a27b887-d2de-4f61-af98-b988f5de0147",
   "metadata": {},
   "outputs": [],
   "source": [
    "df_filter.loc[:,'data'] = df_filter['filepath'].apply(structuring) # this resizes all images to 100 x 100"
   ]
  },
  {
   "cell_type": "code",
   "execution_count": 34,
   "id": "5b691958-6790-429b-a843-5fb5e55ab462",
   "metadata": {},
   "outputs": [],
   "source": [
    "data = df_filter['data'].apply(pd.Series)\n",
    "data.columns = [f'pixel_{i}' for i in data.columns]"
   ]
  },
  {
   "cell_type": "code",
   "execution_count": 33,
   "id": "d879af20-852c-4b64-8981-699c6a3bdb7f",
   "metadata": {},
   "outputs": [
    {
     "data": {
      "text/html": [
       "<div>\n",
       "<style scoped>\n",
       "    .dataframe tbody tr th:only-of-type {\n",
       "        vertical-align: middle;\n",
       "    }\n",
       "\n",
       "    .dataframe tbody tr th {\n",
       "        vertical-align: top;\n",
       "    }\n",
       "\n",
       "    .dataframe thead th {\n",
       "        text-align: right;\n",
       "    }\n",
       "</style>\n",
       "<table border=\"1\" class=\"dataframe\">\n",
       "  <thead>\n",
       "    <tr style=\"text-align: right;\">\n",
       "      <th></th>\n",
       "      <th>pixel0</th>\n",
       "      <th>pixel1</th>\n",
       "      <th>pixel2</th>\n",
       "      <th>pixel3</th>\n",
       "      <th>pixel4</th>\n",
       "      <th>pixel5</th>\n",
       "      <th>pixel6</th>\n",
       "      <th>pixel7</th>\n",
       "      <th>pixel8</th>\n",
       "      <th>pixel9</th>\n",
       "      <th>...</th>\n",
       "      <th>pixel9990</th>\n",
       "      <th>pixel9991</th>\n",
       "      <th>pixel9992</th>\n",
       "      <th>pixel9993</th>\n",
       "      <th>pixel9994</th>\n",
       "      <th>pixel9995</th>\n",
       "      <th>pixel9996</th>\n",
       "      <th>pixel9997</th>\n",
       "      <th>pixel9998</th>\n",
       "      <th>pixel9999</th>\n",
       "    </tr>\n",
       "  </thead>\n",
       "  <tbody>\n",
       "    <tr>\n",
       "      <th>0</th>\n",
       "      <td>188</td>\n",
       "      <td>182</td>\n",
       "      <td>182</td>\n",
       "      <td>185</td>\n",
       "      <td>174</td>\n",
       "      <td>181</td>\n",
       "      <td>192</td>\n",
       "      <td>180</td>\n",
       "      <td>217</td>\n",
       "      <td>218</td>\n",
       "      <td>...</td>\n",
       "      <td>109</td>\n",
       "      <td>111</td>\n",
       "      <td>115</td>\n",
       "      <td>116</td>\n",
       "      <td>122</td>\n",
       "      <td>116</td>\n",
       "      <td>120</td>\n",
       "      <td>119</td>\n",
       "      <td>117</td>\n",
       "      <td>110</td>\n",
       "    </tr>\n",
       "    <tr>\n",
       "      <th>1</th>\n",
       "      <td>32</td>\n",
       "      <td>23</td>\n",
       "      <td>31</td>\n",
       "      <td>27</td>\n",
       "      <td>28</td>\n",
       "      <td>30</td>\n",
       "      <td>28</td>\n",
       "      <td>33</td>\n",
       "      <td>36</td>\n",
       "      <td>30</td>\n",
       "      <td>...</td>\n",
       "      <td>58</td>\n",
       "      <td>47</td>\n",
       "      <td>27</td>\n",
       "      <td>34</td>\n",
       "      <td>22</td>\n",
       "      <td>27</td>\n",
       "      <td>23</td>\n",
       "      <td>37</td>\n",
       "      <td>63</td>\n",
       "      <td>18</td>\n",
       "    </tr>\n",
       "    <tr>\n",
       "      <th>2</th>\n",
       "      <td>49</td>\n",
       "      <td>49</td>\n",
       "      <td>35</td>\n",
       "      <td>34</td>\n",
       "      <td>42</td>\n",
       "      <td>40</td>\n",
       "      <td>35</td>\n",
       "      <td>39</td>\n",
       "      <td>71</td>\n",
       "      <td>62</td>\n",
       "      <td>...</td>\n",
       "      <td>210</td>\n",
       "      <td>230</td>\n",
       "      <td>231</td>\n",
       "      <td>237</td>\n",
       "      <td>238</td>\n",
       "      <td>230</td>\n",
       "      <td>220</td>\n",
       "      <td>212</td>\n",
       "      <td>210</td>\n",
       "      <td>208</td>\n",
       "    </tr>\n",
       "    <tr>\n",
       "      <th>3</th>\n",
       "      <td>132</td>\n",
       "      <td>121</td>\n",
       "      <td>118</td>\n",
       "      <td>97</td>\n",
       "      <td>85</td>\n",
       "      <td>92</td>\n",
       "      <td>91</td>\n",
       "      <td>110</td>\n",
       "      <td>155</td>\n",
       "      <td>162</td>\n",
       "      <td>...</td>\n",
       "      <td>161</td>\n",
       "      <td>111</td>\n",
       "      <td>62</td>\n",
       "      <td>62</td>\n",
       "      <td>66</td>\n",
       "      <td>81</td>\n",
       "      <td>90</td>\n",
       "      <td>100</td>\n",
       "      <td>108</td>\n",
       "      <td>113</td>\n",
       "    </tr>\n",
       "    <tr>\n",
       "      <th>4</th>\n",
       "      <td>234</td>\n",
       "      <td>234</td>\n",
       "      <td>234</td>\n",
       "      <td>228</td>\n",
       "      <td>231</td>\n",
       "      <td>205</td>\n",
       "      <td>122</td>\n",
       "      <td>98</td>\n",
       "      <td>74</td>\n",
       "      <td>54</td>\n",
       "      <td>...</td>\n",
       "      <td>243</td>\n",
       "      <td>243</td>\n",
       "      <td>237</td>\n",
       "      <td>237</td>\n",
       "      <td>239</td>\n",
       "      <td>237</td>\n",
       "      <td>236</td>\n",
       "      <td>241</td>\n",
       "      <td>238</td>\n",
       "      <td>240</td>\n",
       "    </tr>\n",
       "  </tbody>\n",
       "</table>\n",
       "<p>5 rows × 10000 columns</p>\n",
       "</div>"
      ],
      "text/plain": [
       "   pixel0  pixel1  pixel2  pixel3  pixel4  pixel5  pixel6  pixel7  pixel8  \\\n",
       "0     188     182     182     185     174     181     192     180     217   \n",
       "1      32      23      31      27      28      30      28      33      36   \n",
       "2      49      49      35      34      42      40      35      39      71   \n",
       "3     132     121     118      97      85      92      91     110     155   \n",
       "4     234     234     234     228     231     205     122      98      74   \n",
       "\n",
       "   pixel9  ...  pixel9990  pixel9991  pixel9992  pixel9993  pixel9994  \\\n",
       "0     218  ...        109        111        115        116        122   \n",
       "1      30  ...         58         47         27         34         22   \n",
       "2      62  ...        210        230        231        237        238   \n",
       "3     162  ...        161        111         62         62         66   \n",
       "4      54  ...        243        243        237        237        239   \n",
       "\n",
       "   pixel9995  pixel9996  pixel9997  pixel9998  pixel9999  \n",
       "0        116        120        119        117        110  \n",
       "1         27         23         37         63         18  \n",
       "2        230        220        212        210        208  \n",
       "3         81         90        100        108        113  \n",
       "4        237        236        241        238        240  \n",
       "\n",
       "[5 rows x 10000 columns]"
      ]
     },
     "execution_count": 33,
     "metadata": {},
     "output_type": "execute_result"
    }
   ],
   "source": [
    "data.head()"
   ]
  },
  {
   "cell_type": "code",
   "execution_count": 35,
   "id": "1432cf42-3c18-4fce-b71d-75f415b326c1",
   "metadata": {},
   "outputs": [],
   "source": [
    " ## data normalization\n",
    "data = data/255"
   ]
  },
  {
   "cell_type": "code",
   "execution_count": 39,
   "id": "d952de7b-0da5-4446-9773-a6a98cff7c77",
   "metadata": {},
   "outputs": [],
   "source": [
    "data['gender'] = df_filter.gender"
   ]
  },
  {
   "cell_type": "code",
   "execution_count": 45,
   "id": "320b3bbb-3d5c-4472-8bed-31991dc15815",
   "metadata": {},
   "outputs": [
    {
     "data": {
      "text/plain": [
       "np.int64(0)"
      ]
     },
     "execution_count": 45,
     "metadata": {},
     "output_type": "execute_result"
    }
   ],
   "source": [
    "# remove missing value\n",
    "data.dropna(inplace = True)\n",
    "# check for null values\n",
    "data.isnull().sum().sum()"
   ]
  },
  {
   "cell_type": "markdown",
   "id": "cb595a68-ce00-4930-907c-2e341d1c5e89",
   "metadata": {},
   "source": [
    "### Save data for future use"
   ]
  },
  {
   "cell_type": "code",
   "execution_count": 47,
   "id": "a7cabaac-3f74-4650-ba83-39c2aeb81721",
   "metadata": {},
   "outputs": [],
   "source": [
    "import pickle"
   ]
  },
  {
   "cell_type": "code",
   "execution_count": 62,
   "id": "de229bd3-225d-475c-8094-bf6a43456cc6",
   "metadata": {},
   "outputs": [],
   "source": [
    "pickle.dump(data, open('./data/data_images_100_100.pickles', mode = 'wb'))"
   ]
  },
  {
   "cell_type": "code",
   "execution_count": null,
   "id": "0ce3447f-faaf-4e06-af2c-df685a1c597a",
   "metadata": {},
   "outputs": [],
   "source": []
  }
 ],
 "metadata": {
  "kernelspec": {
   "display_name": "Python 3 (ipykernel)",
   "language": "python",
   "name": "python3"
  },
  "language_info": {
   "codemirror_mode": {
    "name": "ipython",
    "version": 3
   },
   "file_extension": ".py",
   "mimetype": "text/x-python",
   "name": "python",
   "nbconvert_exporter": "python",
   "pygments_lexer": "ipython3",
   "version": "3.12.1"
  },
  "widgets": {
   "application/vnd.jupyter.widget-state+json": {
    "state": {},
    "version_major": 2,
    "version_minor": 0
   }
  }
 },
 "nbformat": 4,
 "nbformat_minor": 5
}
