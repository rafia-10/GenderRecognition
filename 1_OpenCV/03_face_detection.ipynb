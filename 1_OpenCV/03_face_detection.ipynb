{
 "cells": [
  {
   "cell_type": "code",
   "execution_count": 1,
   "id": "3abfac9f-efb8-4851-92a6-dd246a31224f",
   "metadata": {},
   "outputs": [],
   "source": [
    "%config Completer.use_jedi = True"
   ]
  },
  {
   "cell_type": "code",
   "execution_count": 2,
   "id": "89d18fc7-9082-4c51-af80-33fd21495356",
   "metadata": {},
   "outputs": [],
   "source": [
    "import numpy as np\n",
    "import cv2"
   ]
  },
  {
   "cell_type": "code",
   "execution_count": 17,
   "id": "4c0126ee-9c42-4404-a589-5d3bf9a78f31",
   "metadata": {},
   "outputs": [],
   "source": [
    "img = cv2.imread('./data/friends.jpg')\n",
    "cv2.imshow('image', img)\n",
    "cv2.waitKey()\n",
    "cv2.destroyAllWindows()"
   ]
  },
  {
   "cell_type": "code",
   "execution_count": 10,
   "id": "2729622d-8da2-4cbd-b5a6-139df8617137",
   "metadata": {},
   "outputs": [],
   "source": [
    "# load cascade classifier\n",
    "haar = cv2.CascadeClassifier('./data/haarcascade_frontalface_default.xml')"
   ]
  },
  {
   "cell_type": "code",
   "execution_count": 12,
   "id": "def8ccf3-c5b5-4f18-a62d-1dba164f903a",
   "metadata": {},
   "outputs": [
    {
     "name": "stdout",
     "output_type": "stream",
     "text": [
      "[[164 144  84  84]\n",
      " [266  66  84  84]\n",
      " [405 150  71  71]\n",
      " [262 273  71  71]\n",
      " [400 335  91  91]\n",
      " [130 311  77  77]]\n"
     ]
    }
   ],
   "source": [
    "print(face_rect)"
   ]
  },
  {
   "cell_type": "code",
   "execution_count": 19,
   "id": "dd339c55-d891-44e9-94ba-1862894f0009",
   "metadata": {},
   "outputs": [],
   "source": [
    "# convert image to greyscale\n",
    "grey = cv2.cvtColor(img,cv2.COLOR_BGR2GRAY)\n",
    "# apply cascade classifier on grayscale(detect face)\n",
    "face_rect = haar.detectMultiScale(grey)\n",
    "# draw bounding box\n",
    "for x,y,w,h in face_rect:\n",
    "    cv2.rectangle(img, (x,y), (x+w,y+h),(0,255,0))\n",
    "    cv2.imshow('detected faces', img)\n",
    "    cv2.waitKey()\n",
    "    cv2.destroyAllWindows()\n"
   ]
  },
  {
   "cell_type": "code",
   "execution_count": null,
   "id": "558a4fc7-c654-4f56-8d06-3ea9df2fd18f",
   "metadata": {},
   "outputs": [],
   "source": []
  }
 ],
 "metadata": {
  "kernelspec": {
   "display_name": "Python 3 (ipykernel)",
   "language": "python",
   "name": "python3"
  },
  "language_info": {
   "codemirror_mode": {
    "name": "ipython",
    "version": 3
   },
   "file_extension": ".py",
   "mimetype": "text/x-python",
   "name": "python",
   "nbconvert_exporter": "python",
   "pygments_lexer": "ipython3",
   "version": "3.12.1"
  },
  "widgets": {
   "application/vnd.jupyter.widget-state+json": {
    "state": {},
    "version_major": 2,
    "version_minor": 0
   }
  }
 },
 "nbformat": 4,
 "nbformat_minor": 5
}
