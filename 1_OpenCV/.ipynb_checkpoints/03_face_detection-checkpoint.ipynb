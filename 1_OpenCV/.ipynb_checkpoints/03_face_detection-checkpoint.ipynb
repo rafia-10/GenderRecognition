{
 "cells": [
  {
   "cell_type": "code",
   "execution_count": null,
   "id": "3abfac9f-efb8-4851-92a6-dd246a31224f",
   "metadata": {},
   "outputs": [],
   "source": [
    "\n",
    "%config Completer.use_jedi = True"
   ]
  },
  {
   "cell_type": "code",
   "execution_count": null,
   "id": "89d18fc7-9082-4c51-af80-33fd21495356",
   "metadata": {},
   "outputs": [],
   "source": [
    "import numpy as np\n",
    "import cv2"
   ]
  },
  {
   "cell_type": "code",
   "execution_count": null,
   "id": "4c0126ee-9c42-4404-a589-5d3bf9a78f31",
   "metadata": {},
   "outputs": [],
   "source": [
    "img = cv2.imread('./data/male_000281.jpg')\n",
    "cv2.imshow('image', img)\n",
    "cv2.waitKey()\n",
    "cv2.destroyAllWindows()"
   ]
  },
  {
   "cell_type": "code",
   "execution_count": null,
   "id": "2729622d-8da2-4cbd-b5a6-139df8617137",
   "metadata": {},
   "outputs": [],
   "source": [
    "cv2.im`"
   ]
  },
  {
   "cell_type": "code",
   "execution_count": null,
   "id": "dd339c55-d891-44e9-94ba-1862894f0009",
   "metadata": {},
   "outputs": [],
   "source": [
    "cv2.i"
   ]
  }
 ],
 "metadata": {
  "kernelspec": {
   "display_name": "Python 3 (ipykernel)",
   "language": "python",
   "name": "python3"
  },
  "language_info": {
   "codemirror_mode": {
    "name": "ipython",
    "version": 3
   },
   "file_extension": ".py",
   "mimetype": "text/x-python",
   "name": "python",
   "nbconvert_exporter": "python",
   "pygments_lexer": "ipython3",
   "version": "3.12.1"
  },
  "widgets": {
   "application/vnd.jupyter.widget-state+json": {
    "state": {},
    "version_major": 2,
    "version_minor": 0
   }
  }
 },
 "nbformat": 4,
 "nbformat_minor": 5
}
